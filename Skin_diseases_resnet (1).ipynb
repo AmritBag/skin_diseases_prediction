{
  "cells": [
    {
      "cell_type": "code",
      "execution_count": null,
      "metadata": {
        "id": "Qklj-fUGwvXk"
      },
      "outputs": [],
      "source": [
        "import zipfile\n",
        "\n",
        "# Specify the zip file and the extraction directory\n",
        "zip_file_path = '/content/drive/MyDrive/Datasets/archive (4).zip'\n",
        "extract_to = '/content/my_dataset/'\n",
        "\n",
        "# Unzip the file\n",
        "with zipfile.ZipFile(zip_file_path, 'r') as zip_ref:\n",
        "    zip_ref.extractall(extract_to)\n",
        "\n",
        "# Check the contents of the extracted folder\n",
        "import os\n",
        "os.listdir(extract_to)\n"
      ]
    },
    {
      "cell_type": "code",
      "execution_count": null,
      "metadata": {
        "id": "I5JpoJQul38G"
      },
      "outputs": [],
      "source": [
        "import torch\n",
        "import torch.nn as nn\n",
        "import torch.optim as optim\n",
        "import torch.nn.functional as F\n",
        "from torch.utils.data import DataLoader, Dataset\n",
        "from torchvision import datasets, transforms, models\n",
        "import matplotlib.pyplot as plt\n",
        "import os\n",
        "import shutil\n",
        "from tqdm import tqdm\n",
        "from pathlib import Path\n",
        "from sklearn.metrics import accuracy_score\n"
      ]
    },
    {
      "cell_type": "code",
      "execution_count": null,
      "metadata": {
        "id": "eQ5I7Cl7n1Em"
      },
      "outputs": [],
      "source": [
        "def get_dataloaders(train_dir, val_dir, test_dir, batch_size=32, image_size=(224, 224)):\n",
        "    transform = transforms.Compose([\n",
        "        transforms.Resize(image_size),\n",
        "        transforms.ToTensor(),\n",
        "        transforms.Normalize(mean=[0.485, 0.456, 0.406], std=[0.229, 0.224, 0.225])\n",
        "    ])\n",
        "\n",
        "    train_dataset = datasets.ImageFolder(root=train_dir, transform=transform)\n",
        "    val_dataset = datasets.ImageFolder(root=val_dir, transform=transform)\n",
        "    test_dataset = datasets.ImageFolder(root=test_dir, transform=transform)\n",
        "\n",
        "    train_loader = DataLoader(train_dataset, batch_size=batch_size, shuffle=True)\n",
        "    val_loader = DataLoader(val_dataset, batch_size=batch_size, shuffle=False)\n",
        "    test_loader = DataLoader(test_dataset, batch_size=batch_size, shuffle=False)\n",
        "\n",
        "    return train_loader, val_loader, test_loader\n"
      ]
    },
    {
      "cell_type": "code",
      "execution_count": null,
      "metadata": {
        "id": "ucicPK8EoGVi"
      },
      "outputs": [],
      "source": [
        "def get_resnet_model(num_classes=10):\n",
        "    model = models.resnet18(pretrained=True)  # You can use resnet50, resnet34, etc.\n",
        "    model.fc = nn.Linear(model.fc.in_features, num_classes)  # Modify the final layer\n",
        "    return model\n"
      ]
    },
    {
      "cell_type": "code",
      "execution_count": null,
      "metadata": {
        "id": "HnpyzzUloK3O"
      },
      "outputs": [],
      "source": [
        "def train(model, train_loader, criterion, optimizer, device):\n",
        "    model.train()\n",
        "    running_loss = 0.0\n",
        "    correct_predictions = 0\n",
        "    total_samples = 0\n",
        "\n",
        "    for inputs, labels in tqdm(train_loader, desc=\"Training\"):\n",
        "        inputs, labels = inputs.to(device), labels.to(device)\n",
        "\n",
        "        optimizer.zero_grad()\n",
        "\n",
        "        outputs = model(inputs)\n",
        "        loss = criterion(outputs, labels)\n",
        "        loss.backward()\n",
        "        optimizer.step()\n",
        "\n",
        "        running_loss += loss.item()\n",
        "\n",
        "        _, preds = torch.max(outputs, 1)\n",
        "        correct_predictions += torch.sum(preds == labels)\n",
        "        total_samples += labels.size(0)\n",
        "\n",
        "    epoch_loss = running_loss / len(train_loader)\n",
        "    accuracy = 100 * correct_predictions.double() / total_samples\n",
        "\n",
        "    return epoch_loss, accuracy.item()\n",
        "\n",
        "\n",
        "def evaluate(model, val_loader, criterion, device):\n",
        "    model.eval()\n",
        "    running_loss = 0.0\n",
        "    correct_predictions = 0\n",
        "    total_samples = 0\n",
        "    all_preds = []\n",
        "    all_labels = []\n",
        "\n",
        "    with torch.no_grad():\n",
        "        for inputs, labels in tqdm(val_loader, desc=\"Evaluating\"):\n",
        "            inputs, labels = inputs.to(device), labels.to(device)\n",
        "\n",
        "            outputs = model(inputs)\n",
        "            loss = criterion(outputs, labels)\n",
        "\n",
        "            running_loss += loss.item()\n",
        "\n",
        "            _, preds = torch.max(outputs, 1)\n",
        "            correct_predictions += torch.sum(preds == labels)\n",
        "            total_samples += labels.size(0)\n",
        "\n",
        "            all_preds.append(preds.cpu())\n",
        "            all_labels.append(labels.cpu())\n",
        "\n",
        "    epoch_loss = running_loss / len(val_loader)\n",
        "    accuracy = 100 * correct_predictions.double() / total_samples\n",
        "\n",
        "    all_preds = torch.cat(all_preds)\n",
        "    all_labels = torch.cat(all_labels)\n",
        "\n",
        "    return epoch_loss, accuracy.item(), all_preds, all_labels\n"
      ]
    },
    {
      "cell_type": "code",
      "execution_count": null,
      "metadata": {
        "id": "3OzeVNfToRls"
      },
      "outputs": [],
      "source": [
        "def train_model(model, train_loader, val_loader, num_epochs=10, batch_size=32, lr=1e-3):\n",
        "    device = torch.device(\"cuda\" if torch.cuda.is_available() else \"cpu\")\n",
        "    model.to(device)\n",
        "\n",
        "    criterion = nn.CrossEntropyLoss()\n",
        "    optimizer = optim.Adam(model.parameters(), lr=lr)\n",
        "\n",
        "    train_losses = []\n",
        "    val_losses = []\n",
        "    val_accuracies = []\n",
        "\n",
        "    for epoch in range(num_epochs):\n",
        "        print(f\"Epoch {epoch+1}/{num_epochs}\")\n",
        "\n",
        "        # Train\n",
        "        train_loss, train_acc = train(model, train_loader, criterion, optimizer, device)\n",
        "        train_losses.append(train_loss)\n",
        "\n",
        "        # Evaluate\n",
        "        val_loss, val_acc, _, _ = evaluate(model, val_loader, criterion, device)\n",
        "        val_losses.append(val_loss)\n",
        "        val_accuracies.append(val_acc)\n",
        "\n",
        "        print(f\"Train Loss: {train_loss:.4f}, Train Accuracy: {train_acc:.2f}%\")\n",
        "        print(f\"Val Loss: {val_loss:.4f}, Val Accuracy: {val_acc:.2f}%\")\n",
        "\n",
        "        # Save model checkpoint\n",
        "        torch.save(model.state_dict(), 'model.pth')\n",
        "\n",
        "    # Plot train and val loss\n",
        "    plt.plot(range(num_epochs), train_losses, label=\"Train Loss\")\n",
        "    plt.plot(range(num_epochs), val_losses, label=\"Validation Loss\")\n",
        "    plt.xlabel(\"Epochs\")\n",
        "    plt.ylabel(\"Loss\")\n",
        "    plt.legend()\n",
        "    plt.show()\n",
        "\n",
        "    return model, train_losses, val_losses\n"
      ]
    },
    {
      "cell_type": "code",
      "execution_count": null,
      "metadata": {
        "id": "1TDMAMEtoWR0"
      },
      "outputs": [],
      "source": [
        "def save_misclassified(model, loader, device, save_path=\"misclassified\"):\n",
        "    if not os.path.exists(save_path):\n",
        "        os.makedirs(save_path)\n",
        "\n",
        "    model.eval()\n",
        "    misclassified_images = 0\n",
        "\n",
        "    with torch.no_grad():\n",
        "        for inputs, labels in tqdm(loader, desc=\"Saving Misclassified Images\"):\n",
        "            inputs, labels = inputs.to(device), labels.to(device)\n",
        "\n",
        "            outputs = model(inputs)\n",
        "            _, preds = torch.max(outputs, 1)\n",
        "\n",
        "            misclassified = (preds != labels)\n",
        "\n",
        "            for i in range(inputs.size(0)):\n",
        "                if misclassified[i]:\n",
        "                    img = inputs[i].cpu().permute(1, 2, 0).numpy()\n",
        "                    img = (img - img.min()) / (img.max() - img.min())  # Normalize\n",
        "                    img_path = os.path.join(save_path, f\"misclassified_{misclassified_images}.png\")\n",
        "                    plt.imsave(img_path, img)\n",
        "                    misclassified_images += 1\n"
      ]
    },
    {
      "cell_type": "code",
      "execution_count": null,
      "metadata": {
        "id": "voMqbChSoaxl"
      },
      "outputs": [],
      "source": [
        "def test_and_save_misclassified(model, test_loader, device):\n",
        "    save_misclassified(model, test_loader, device, save_path=\"misclassified_test\")\n"
      ]
    },
    {
      "cell_type": "code",
      "execution_count": null,
      "metadata": {
        "id": "lvdGKzNJogGu"
      },
      "outputs": [],
      "source": [
        "def run(train_dir, val_dir, test_dir, num_classes=10, num_epochs=10, batch_size=32, lr=1e-3, model_save_path=\"model.pth\", misclassified_save_path=\"misclassified\"):\n",
        "    # Load the data\n",
        "    train_loader, val_loader, test_loader = get_dataloaders(train_dir, val_dir, test_dir, batch_size=batch_size)\n",
        "\n",
        "    # Initialize the model\n",
        "    model = get_resnet_model(num_classes=num_classes)\n",
        "\n",
        "    # Train the model\n",
        "    print(\"Training the model...\")\n",
        "    model, train_losses, val_losses = train_model(model, train_loader, val_loader, num_epochs=num_epochs, batch_size=batch_size, lr=lr)\n",
        "\n",
        "    # Save the final model state\n",
        "    print(f\"Saving the model to {model_save_path}...\")\n",
        "    torch.save(model.state_dict(), model_save_path)\n",
        "\n",
        "    # Save misclassified images from the validation set\n",
        "    print(f\"Saving misclassified images from the validation set to {misclassified_save_path}...\")\n",
        "    save_misclassified(model, val_loader, device='cuda', save_path=misclassified_save_path)\n",
        "\n",
        "    # Evaluate on the test set and save misclassified images\n",
        "    print(\"Evaluating the model on the test set...\")\n",
        "    test_and_save_misclassified(model, test_loader, device='cuda')\n",
        "\n",
        "    print(\"Run complete.\")\n"
      ]
    },
    {
      "cell_type": "code",
      "execution_count": null,
      "metadata": {
        "colab": {
          "background_save": true,
          "base_uri": "https://localhost:8080/",
          "height": 1000
        },
        "id": "aB-C5Yk5ov8R",
        "outputId": "b41ae974-6590-497e-c5aa-d3773b099b96"
      },
      "outputs": [
        {
          "name": "stderr",
          "output_type": "stream",
          "text": [
            "/usr/local/lib/python3.11/dist-packages/torchvision/models/_utils.py:208: UserWarning: The parameter 'pretrained' is deprecated since 0.13 and may be removed in the future, please use 'weights' instead.\n",
            "  warnings.warn(\n",
            "/usr/local/lib/python3.11/dist-packages/torchvision/models/_utils.py:223: UserWarning: Arguments other than a weight enum or `None` for 'weights' are deprecated since 0.13 and may be removed in the future. The current behavior is equivalent to passing `weights=ResNet18_Weights.IMAGENET1K_V1`. You can also use `weights=ResNet18_Weights.DEFAULT` to get the most up-to-date weights.\n",
            "  warnings.warn(msg)\n",
            "Downloading: \"https://download.pytorch.org/models/resnet18-f37072fd.pth\" to /root/.cache/torch/hub/checkpoints/resnet18-f37072fd.pth\n",
            "100%|██████████| 44.7M/44.7M [00:00<00:00, 117MB/s]\n"
          ]
        },
        {
          "name": "stdout",
          "output_type": "stream",
          "text": [
            "Training the model...\n",
            "Epoch 1/10\n"
          ]
        },
        {
          "name": "stderr",
          "output_type": "stream",
          "text": [
            "Training: 100%|██████████| 594/594 [04:03<00:00,  2.44it/s]\n",
            "Evaluating: 100%|██████████| 594/594 [03:08<00:00,  3.16it/s]\n"
          ]
        },
        {
          "name": "stdout",
          "output_type": "stream",
          "text": [
            "Train Loss: 1.0429, Train Accuracy: 60.22%\n",
            "Val Loss: 0.9287, Val Accuracy: 64.40%\n",
            "Epoch 2/10\n"
          ]
        },
        {
          "name": "stderr",
          "output_type": "stream",
          "text": [
            "Training: 100%|██████████| 594/594 [03:43<00:00,  2.66it/s]\n",
            "Evaluating: 100%|██████████| 594/594 [03:09<00:00,  3.13it/s]\n"
          ]
        },
        {
          "name": "stdout",
          "output_type": "stream",
          "text": [
            "Train Loss: 0.8307, Train Accuracy: 68.06%\n",
            "Val Loss: 0.7443, Val Accuracy: 70.86%\n",
            "Epoch 3/10\n"
          ]
        },
        {
          "name": "stderr",
          "output_type": "stream",
          "text": [
            "Training: 100%|██████████| 594/594 [03:42<00:00,  2.67it/s]\n",
            "Evaluating: 100%|██████████| 594/594 [03:07<00:00,  3.18it/s]\n"
          ]
        },
        {
          "name": "stdout",
          "output_type": "stream",
          "text": [
            "Train Loss: 0.7433, Train Accuracy: 71.74%\n",
            "Val Loss: 0.7279, Val Accuracy: 72.01%\n",
            "Epoch 4/10\n"
          ]
        },
        {
          "name": "stderr",
          "output_type": "stream",
          "text": [
            "Training: 100%|██████████| 594/594 [03:41<00:00,  2.69it/s]\n",
            "Evaluating: 100%|██████████| 594/594 [03:06<00:00,  3.18it/s]\n"
          ]
        },
        {
          "name": "stdout",
          "output_type": "stream",
          "text": [
            "Train Loss: 0.6692, Train Accuracy: 75.05%\n",
            "Val Loss: 0.5504, Val Accuracy: 80.07%\n",
            "Epoch 5/10\n"
          ]
        },
        {
          "name": "stderr",
          "output_type": "stream",
          "text": [
            "Training: 100%|██████████| 594/594 [03:40<00:00,  2.70it/s]\n",
            "Evaluating: 100%|██████████| 594/594 [03:04<00:00,  3.22it/s]\n"
          ]
        },
        {
          "name": "stdout",
          "output_type": "stream",
          "text": [
            "Train Loss: 0.5963, Train Accuracy: 77.62%\n",
            "Val Loss: 0.4982, Val Accuracy: 82.19%\n",
            "Epoch 6/10\n"
          ]
        },
        {
          "name": "stderr",
          "output_type": "stream",
          "text": [
            "Training: 100%|██████████| 594/594 [03:39<00:00,  2.70it/s]\n",
            "Evaluating: 100%|██████████| 594/594 [03:05<00:00,  3.21it/s]\n"
          ]
        },
        {
          "name": "stdout",
          "output_type": "stream",
          "text": [
            "Train Loss: 0.5101, Train Accuracy: 81.18%\n",
            "Val Loss: 0.3993, Val Accuracy: 85.68%\n",
            "Epoch 7/10\n"
          ]
        },
        {
          "name": "stderr",
          "output_type": "stream",
          "text": [
            "Training: 100%|██████████| 594/594 [03:40<00:00,  2.69it/s]\n",
            "Evaluating: 100%|██████████| 594/594 [03:05<00:00,  3.21it/s]\n"
          ]
        },
        {
          "name": "stdout",
          "output_type": "stream",
          "text": [
            "Train Loss: 0.4158, Train Accuracy: 84.80%\n",
            "Val Loss: 0.2574, Val Accuracy: 91.69%\n",
            "Epoch 8/10\n"
          ]
        },
        {
          "name": "stderr",
          "output_type": "stream",
          "text": [
            "Training: 100%|██████████| 594/594 [03:39<00:00,  2.71it/s]\n",
            "Evaluating: 100%|██████████| 594/594 [03:04<00:00,  3.22it/s]\n"
          ]
        },
        {
          "name": "stdout",
          "output_type": "stream",
          "text": [
            "Train Loss: 0.3175, Train Accuracy: 88.69%\n",
            "Val Loss: 0.2025, Val Accuracy: 93.07%\n",
            "Epoch 9/10\n"
          ]
        },
        {
          "name": "stderr",
          "output_type": "stream",
          "text": [
            "Training: 100%|██████████| 594/594 [03:39<00:00,  2.71it/s]\n",
            "Evaluating: 100%|██████████| 594/594 [03:03<00:00,  3.23it/s]\n"
          ]
        },
        {
          "name": "stdout",
          "output_type": "stream",
          "text": [
            "Train Loss: 0.2269, Train Accuracy: 91.95%\n",
            "Val Loss: 0.1356, Val Accuracy: 95.37%\n",
            "Epoch 10/10\n"
          ]
        },
        {
          "name": "stderr",
          "output_type": "stream",
          "text": [
            "Training: 100%|██████████| 594/594 [03:39<00:00,  2.71it/s]\n",
            "Evaluating: 100%|██████████| 594/594 [03:06<00:00,  3.19it/s]\n"
          ]
        },
        {
          "name": "stdout",
          "output_type": "stream",
          "text": [
            "Train Loss: 0.1669, Train Accuracy: 94.22%\n",
            "Val Loss: 0.1160, Val Accuracy: 96.01%\n"
          ]
        },
        {
          "data": {
            "image/png": "[encoded data removed]",
            "text/plain": [
              "<Figure size 640x480 with 1 Axes>"
            ]
          },
          "metadata": {},
          "output_type": "display_data"
        },
        {
          "name": "stdout",
          "output_type": "stream",
          "text": [
            "Saving the model to model.pth...\n",
            "Saving misclassified images from the validation set to misclassified...\n"
          ]
        },
        {
          "name": "stderr",
          "output_type": "stream",
          "text": [
            "Saving Misclassified Images: 100%|██████████| 594/594 [03:30<00:00,  2.82it/s]\n"
          ]
        },
        {
          "name": "stdout",
          "output_type": "stream",
          "text": [
            "Evaluating the model on the test set...\n"
          ]
        },
        {
          "name": "stderr",
          "output_type": "stream",
          "text": [
            "Saving Misclassified Images: 100%|██████████| 170/170 [01:43<00:00,  1.64it/s]"
          ]
        },
        {
          "name": "stdout",
          "output_type": "stream",
          "text": [
            "Run complete.\n"
          ]
        },
        {
          "name": "stderr",
          "output_type": "stream",
          "text": [
            "\n"
          ]
        }
      ],
      "source": [
        "\n",
        "train_dir = '/content/my_dataset/Skin_Disease_Dataset/Train'\n",
        "val_dir = '/content/my_dataset/Skin_Disease_Dataset/Train'\n",
        "test_dir = '/content/my_dataset/Skin_Disease_Dataset/Test'\n",
        "\n",
        "run(train_dir, val_dir, test_dir, num_classes=10, num_epochs=10, batch_size=32, lr=1e-3)\n"
      ]
    },
    {
      "cell_type": "code",
      "source": [],
      "metadata": {
        "id": "HVHwM49bHNyI"
      },
      "execution_count": null,
      "outputs": []
    }
  ],
  "metadata": {
    "accelerator": "GPU",
    "colab": {
      "gpuType": "T4",
      "provenance": []
    },
    "kernelspec": {
      "display_name": "Python 3",
      "name": "python3"
    },
    "language_info": {
      "name": "python"
    }
  },
  "nbformat": 4,
  "nbformat_minor": 0
}